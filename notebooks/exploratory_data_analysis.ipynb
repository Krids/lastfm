{
 "cells": [
  {
   "cell_type": "markdown",
   "id": "05fd025c-013b-4fc1-948f-bcb7e78dadf9",
   "metadata": {},
   "source": [
    "# LAST.FM Project"
   ]
  },
  {
   "cell_type": "code",
   "execution_count": 28,
   "id": "d99d80a2",
   "metadata": {
    "vscode": {
     "languageId": "plaintext"
    }
   },
   "outputs": [
    {
     "name": "stderr",
     "output_type": "stream",
     "text": [
      "Downloading https://repo1.maven.org/maven2/org/plotly-scala/plotly-almond_2.13/0.9.0/plotly-almond_2.13-0.9.0.pom\n",
      "Failed to download https://repo1.maven.org/maven2/org/plotly-scala/plotly-almond_2.13/0.9.0/plotly-almond_2.13-0.9.0.pom\n",
      "Downloading https://repo1.maven.org/maven2/org/plotly-scala/plotly-almond_2.13/0.9.0/plotly-almond_2.13-0.9.0.pom.sha1\n",
      "Failed to download https://repo1.maven.org/maven2/org/plotly-scala/plotly-almond_2.13/0.9.0/plotly-almond_2.13-0.9.0.pom.sha1\n",
      "Downloading https://jitpack.io/org/plotly-scala/plotly-almond_2.13/0.9.0/plotly-almond_2.13-0.9.0.pom\n",
      "Failed to download https://jitpack.io/org/plotly-scala/plotly-almond_2.13/0.9.0/plotly-almond_2.13-0.9.0.pom\n",
      "Downloading https://jitpack.io/org/plotly-scala/plotly-almond_2.13/0.9.0/plotly-almond_2.13-0.9.0.pom.sha1\n",
      "Failed to download https://jitpack.io/org/plotly-scala/plotly-almond_2.13/0.9.0/plotly-almond_2.13-0.9.0.pom.sha1\n",
      "Failed to resolve ivy dependencies:Error downloading org.plotly-scala:plotly-almond_2.13:0.9.0\n",
      "  not found: /Users/Felipe/.ivy2/local/org.plotly-scala/plotly-almond_2.13/0.9.0/ivys/ivy.xml\n",
      "  not found: https://repo1.maven.org/maven2/org/plotly-scala/plotly-almond_2.13/0.9.0/plotly-almond_2.13-0.9.0.pom\n",
      "  not found: https://jitpack.io/org/plotly-scala/plotly-almond_2.13/0.9.0/plotly-almond_2.13-0.9.0.pom"
     ]
    }
   ],
   "source": [
    "import $ivy.`org.apache.spark::spark-sql:3.5.1`\n",
    "import $ivy.`org.plotly-scala::plotly-almond:0.9.0`\n",
    "import plotly._, plotly.element._, plotly.layout._, plotly.Almond._\n",
    "init()\n",
    "\n",
    "import org.apache.spark.sql.{SparkSession, DataFrame}\n",
    "import org.apache.spark.sql.functions._\n",
    "import org.apache.logging.log4j.{LogManager, Level => LogLevel}\n",
    "import org.apache.logging.log4j.core.Logger\n",
    "\n",
    "import org.apache.spark.sql.types._\n",
    "\n",
    "// Ajusta o nível de log para suprimir INFO antes de iniciar o Spark\n",
    "System.setProperty(\"log4j2.level\", \"WARN\")\n",
    "\n",
    "val spark = SparkSession.builder()\n",
    "  .appName(\"LastFM-EDA\")\n",
    "  .master(\"local[*]\")\n",
    "  .config(\"spark.sql.shuffle.partitions\", \"4\")\n",
    "  .getOrCreate()\n",
    "\n",
    "// Reduz log para ERROR em loggers Spark e Hadoop\n",
    "Seq(\n",
    "  \"org.apache.spark\",\n",
    "  \"org.apache.spark.sql.execution\",\n",
    "  \"org.apache.spark.storage\",\n",
    "  \"org.apache.hadoop\",\n",
    "  \"org.spark_project\"\n",
    ").foreach { name =>\n",
    "  LogManager.getLogger(name).asInstanceOf[Logger].setLevel(LogLevel.ERROR)\n",
    "}\n",
    "\n",
    "LogManager.getRootLogger.asInstanceOf[Logger].setLevel(LogLevel.ERROR)\n",
    "\n",
    "import spark.implicits._"
   ]
  },
  {
   "cell_type": "markdown",
   "id": "c427cd13-694d-47d3-b35b-3d39a79edd18",
   "metadata": {},
   "source": [
    "## Creating DataFrames"
   ]
  },
  {
   "cell_type": "code",
   "execution_count": 4,
   "id": "9a01241e-2789-4fd7-9dad-65685399a5b5",
   "metadata": {},
   "outputs": [
    {
     "data": {
      "text/plain": [
       "\u001b[36mlisteningSchema\u001b[39m: \u001b[32mStructType\u001b[39m = \u001b[33mSeq\u001b[39m(\n",
       "  \u001b[33mStructField\u001b[39m(\n",
       "    name = \u001b[32m\"userid\"\u001b[39m,\n",
       "    dataType = StringType,\n",
       "    nullable = \u001b[32mtrue\u001b[39m,\n",
       "    metadata = {}\n",
       "  ),\n",
       "  \u001b[33mStructField\u001b[39m(\n",
       "    name = \u001b[32m\"timestamp\"\u001b[39m,\n",
       "    dataType = TimestampType,\n",
       "    nullable = \u001b[32mtrue\u001b[39m,\n",
       "    metadata = {}\n",
       "  ),\n",
       "  \u001b[33mStructField\u001b[39m(\n",
       "    name = \u001b[32m\"artist_id\"\u001b[39m,\n",
       "    dataType = StringType,\n",
       "    nullable = \u001b[32mtrue\u001b[39m,\n",
       "    metadata = {}\n",
       "  ),\n",
       "  \u001b[33mStructField\u001b[39m(\n",
       "    name = \u001b[32m\"artist_name\"\u001b[39m,\n",
       "    dataType = StringType,\n",
       "    nullable = \u001b[32mtrue\u001b[39m,\n",
       "    metadata = {}\n",
       "  ),\n",
       "  \u001b[33mStructField\u001b[39m(\n",
       "    name = \u001b[32m\"track_id\"\u001b[39m,\n",
       "    dataType = StringType,\n",
       "    nullable = \u001b[32mtrue\u001b[39m,\n",
       "    metadata = {}\n",
       "  ),\n",
       "  \u001b[33mStructField\u001b[39m(\n",
       "    name = \u001b[32m\"track_name\"\u001b[39m,\n",
       "    dataType = StringType,\n",
       "    nullable = \u001b[32mtrue\u001b[39m,\n",
       "    metadata = {}\n",
       "  )\n",
       ")"
      ]
     },
     "execution_count": 4,
     "metadata": {},
     "output_type": "execute_result"
    }
   ],
   "source": [
    "val listeningSchema = StructType(Seq(\n",
    "  StructField(\"userid\", StringType, true),\n",
    "  StructField(\"timestamp\", TimestampType, true),\n",
    "  StructField(\"artist_id\", StringType, true),\n",
    "  StructField(\"artist_name\", StringType, true),\n",
    "  StructField(\"track_id\", StringType, true),\n",
    "  StructField(\"track_name\", StringType, true)\n",
    "))"
   ]
  },
  {
   "cell_type": "code",
   "execution_count": 5,
   "id": "b8d33a6c-ec07-4ff3-abbb-87c80971839b",
   "metadata": {},
   "outputs": [
    {
     "data": {
      "text/plain": [
       "\u001b[36mprofileSchema\u001b[39m: \u001b[32mStructType\u001b[39m = \u001b[33mSeq\u001b[39m(\n",
       "  \u001b[33mStructField\u001b[39m(\n",
       "    name = \u001b[32m\"userid\"\u001b[39m,\n",
       "    dataType = StringType,\n",
       "    nullable = \u001b[32mtrue\u001b[39m,\n",
       "    metadata = {}\n",
       "  ),\n",
       "  \u001b[33mStructField\u001b[39m(\n",
       "    name = \u001b[32m\"gender\"\u001b[39m,\n",
       "    dataType = StringType,\n",
       "    nullable = \u001b[32mtrue\u001b[39m,\n",
       "    metadata = {}\n",
       "  ),\n",
       "  \u001b[33mStructField\u001b[39m(\n",
       "    name = \u001b[32m\"age\"\u001b[39m,\n",
       "    dataType = IntegerType,\n",
       "    nullable = \u001b[32mtrue\u001b[39m,\n",
       "    metadata = {}\n",
       "  ),\n",
       "  \u001b[33mStructField\u001b[39m(\n",
       "    name = \u001b[32m\"country\"\u001b[39m,\n",
       "    dataType = StringType,\n",
       "    nullable = \u001b[32mtrue\u001b[39m,\n",
       "    metadata = {}\n",
       "  ),\n",
       "  \u001b[33mStructField\u001b[39m(\n",
       "    name = \u001b[32m\"signup\"\u001b[39m,\n",
       "    dataType = StringType,\n",
       "    nullable = \u001b[32mtrue\u001b[39m,\n",
       "    metadata = {}\n",
       "  )\n",
       ")"
      ]
     },
     "execution_count": 5,
     "metadata": {},
     "output_type": "execute_result"
    }
   ],
   "source": [
    "val profileSchema = StructType(Seq(\n",
    "  StructField(\"userid\", StringType, true),\n",
    "  StructField(\"gender\", StringType, true),\n",
    "  StructField(\"age\", IntegerType, true),\n",
    "  StructField(\"country\", StringType, true),\n",
    "  StructField(\"signup\", StringType, true)\n",
    "))"
   ]
  },
  {
   "cell_type": "markdown",
   "id": "4de57b7b-0362-436f-b26e-2b78d04ba5d7",
   "metadata": {},
   "source": [
    "## Importing the datasets"
   ]
  },
  {
   "cell_type": "code",
   "execution_count": 6,
   "id": "a88c906d-0d7c-4337-b5e2-9132ae39b748",
   "metadata": {},
   "outputs": [
    {
     "data": {
      "text/plain": [
       "\u001b[36mdf_listens\u001b[39m: \u001b[32mDataFrame\u001b[39m = [userid: string, timestamp: timestamp ... 4 more fields]\n",
       "\u001b[36mdf_profile\u001b[39m: \u001b[32mDataFrame\u001b[39m = [userid: string, gender: string ... 3 more fields]"
      ]
     },
     "execution_count": 6,
     "metadata": {},
     "output_type": "execute_result"
    }
   ],
   "source": [
    "val df_listens = spark.read\n",
    "  .option(\"delimiter\", \"\\t\")\n",
    "  .schema(listeningSchema)\n",
    "  .csv(\"../data/lastfm/lastfm-dataset-1k/userid-timestamp-artid-artname-traid-traname.tsv\")\n",
    "\n",
    "val df_profile = spark.read\n",
    "  .option(\"delimiter\", \"\\t\")\n",
    "  .schema(profileSchema)\n",
    "  .csv(\"../data/lastfm/lastfm-dataset-1k/userid-profile.tsv\")"
   ]
  },
  {
   "cell_type": "markdown",
   "id": "a604abc3-126c-491b-a197-ff8d30fd86e3",
   "metadata": {},
   "source": [
    "Looking at the data"
   ]
  },
  {
   "cell_type": "code",
   "execution_count": 7,
   "id": "10726fc6-ed10-43d5-b87e-e7578c469b0a",
   "metadata": {},
   "outputs": [
    {
     "name": "stdout",
     "output_type": "stream",
     "text": [
      "+-----------+-------------------+--------------------+---------------+--------------------+--------------------+\n",
      "|     userid|          timestamp|           artist_id|    artist_name|            track_id|          track_name|\n",
      "+-----------+-------------------+--------------------+---------------+--------------------+--------------------+\n",
      "|user_000001|2009-05-05 03:08:57|f1b1cf71-bd35-4e9...|      Deep Dish|                NULL|Fuck Me Im Famous...|\n",
      "|user_000001|2009-05-04 17:54:10|a7f7df4a-77d8-4f1...|       坂本龍一|                NULL|Composition 0919 ...|\n",
      "|user_000001|2009-05-04 17:52:04|a7f7df4a-77d8-4f1...|       坂本龍一|                NULL|Mc2 (Live_2009_4_15)|\n",
      "|user_000001|2009-05-04 17:42:52|a7f7df4a-77d8-4f1...|       坂本龍一|                NULL|Hibari (Live_2009...|\n",
      "|user_000001|2009-05-04 17:42:11|a7f7df4a-77d8-4f1...|       坂本龍一|                NULL|Mc1 (Live_2009_4_15)|\n",
      "|user_000001|2009-05-04 17:38:31|a7f7df4a-77d8-4f1...|       坂本龍一|                NULL|To Stanford (Live...|\n",
      "|user_000001|2009-05-04 17:33:28|a7f7df4a-77d8-4f1...|       坂本龍一|                NULL|Improvisation (Li...|\n",
      "|user_000001|2009-05-04 17:23:45|a7f7df4a-77d8-4f1...|       坂本龍一|                NULL|Glacier (Live_200...|\n",
      "|user_000001|2009-05-04 17:19:22|a7f7df4a-77d8-4f1...|       坂本龍一|                NULL|Parolibre (Live_2...|\n",
      "|user_000001|2009-05-04 17:13:38|a7f7df4a-77d8-4f1...|       坂本龍一|                NULL|Bibo No Aozora (L...|\n",
      "|user_000001|2009-05-04 17:06:09|a7f7df4a-77d8-4f1...|       坂本龍一|f7c1f8f8-b935-45e...|The Last Emperor ...|\n",
      "|user_000001|2009-05-04 17:00:48|a7f7df4a-77d8-4f1...|       坂本龍一|                NULL|Happyend (Live_20...|\n",
      "|user_000001|2009-05-04 16:55:34|a7f7df4a-77d8-4f1...|       坂本龍一|475d4e50-cebb-4cd...|Tibetan Dance (Ve...|\n",
      "|user_000001|2009-05-04 16:51:26|a7f7df4a-77d8-4f1...|       坂本龍一|                NULL|Behind The Mask (...|\n",
      "|user_000001|2009-05-03 19:48:25|ba2f4f3b-0293-4bc...|     Underworld|dc394163-2b78-4b5...|Boy, Boy, Boy (Sw...|\n",
      "|user_000001|2009-05-03 19:37:56|ba2f4f3b-0293-4bc...|     Underworld|340d9a0b-9a43-409...|Crocodile (Innerv...|\n",
      "|user_000001|2009-05-03 19:14:53|a16e47f5-aa54-47f...|Ennio Morricone|0b04407b-f517-4e0...|Ninna Nanna In Bl...|\n",
      "|user_000001|2009-05-03 19:10:18|463a94f1-2713-40b...|        Minus 8|4e78efc4-e545-47a...|      Elysian Fields|\n",
      "|user_000001|2009-05-03 19:04:31|ad0811ea-e213-451...|      Beanfield|fb51d2c4-cc69-412...|  Planetary Deadlock|\n",
      "|user_000001|2009-05-03 18:56:25|309e2dfc-678e-4d0...|       Dj Linus|4277434f-e3c2-41a...|Good Morning Love...|\n",
      "+-----------+-------------------+--------------------+---------------+--------------------+--------------------+\n",
      "only showing top 20 rows\n",
      "\n"
     ]
    }
   ],
   "source": [
    "df_listens.show()"
   ]
  },
  {
   "cell_type": "markdown",
   "id": "f6274f1e-5dd2-43e8-8b45-b3f6b1cbce3f",
   "metadata": {},
   "source": [
    "## Exploratory Analysis\n",
    "\n",
    "- Showing TOP 10 Artists"
   ]
  },
  {
   "cell_type": "code",
   "execution_count": 8,
   "id": "a1279e02-0329-42dd-9201-2da4b1082819",
   "metadata": {},
   "outputs": [
    {
     "name": "stdout",
     "output_type": "stream",
     "text": [
      "+-------------------+------+\n",
      "|artist_name        |count |\n",
      "+-------------------+------+\n",
      "|Radiohead          |115209|\n",
      "|The Beatles        |100338|\n",
      "|Nine Inch Nails    |84421 |\n",
      "|Muse               |63351 |\n",
      "|Coldplay           |62251 |\n",
      "|Depeche Mode       |59910 |\n",
      "|Pink Floyd         |58561 |\n",
      "|Death Cab For Cutie|58083 |\n",
      "|Placebo            |53543 |\n",
      "|Elliott Smith      |50278 |\n",
      "+-------------------+------+\n",
      "only showing top 10 rows\n",
      "\n"
     ]
    }
   ],
   "source": [
    "df_listens.groupBy($\"artist_name\")\n",
    "  .count()\n",
    "  .orderBy(desc(\"count\"))\n",
    "  .show(10, truncate = false)"
   ]
  },
  {
   "cell_type": "markdown",
   "id": "718d4cbe-0915-48b4-b90f-5bc8b3b71ccc",
   "metadata": {},
   "source": [
    "- Showing the amount of distinct users"
   ]
  },
  {
   "cell_type": "code",
   "execution_count": 9,
   "id": "6e45b5ca-9d10-4819-8a98-bd6b4d70dc2e",
   "metadata": {},
   "outputs": [
    {
     "data": {
      "text/plain": [
       "\u001b[36mres9\u001b[39m: \u001b[32mLong\u001b[39m = \u001b[32m992L\u001b[39m"
      ]
     },
     "execution_count": 9,
     "metadata": {},
     "output_type": "execute_result"
    }
   ],
   "source": [
    "df_listens.select(\"userid\").distinct().count()"
   ]
  },
  {
   "cell_type": "markdown",
   "id": "02829a00-3c1b-4491-b2ca-47d4b369d89a",
   "metadata": {},
   "source": [
    "- Creating the joined DataFrame"
   ]
  },
  {
   "cell_type": "code",
   "execution_count": 11,
   "id": "3fb3ed09-d9f2-4934-84e5-f8204fa1a2ce",
   "metadata": {},
   "outputs": [
    {
     "name": "stdout",
     "output_type": "stream",
     "text": [
      "+-----------+------+-------+-----------+------------------------------------------+\n",
      "|userid     |gender|country|artist_name|track_name                                |\n",
      "+-----------+------+-------+-----------+------------------------------------------+\n",
      "|user_000001|m     |Japan  |Deep Dish  |Fuck Me Im Famous (Pacha Ibiza)-09-28-2007|\n",
      "|user_000001|m     |Japan  |坂本龍一   |Composition 0919 (Live_2009_4_15)         |\n",
      "|user_000001|m     |Japan  |坂本龍一   |Mc2 (Live_2009_4_15)                      |\n",
      "|user_000001|m     |Japan  |坂本龍一   |Hibari (Live_2009_4_15)                   |\n",
      "|user_000001|m     |Japan  |坂本龍一   |Mc1 (Live_2009_4_15)                      |\n",
      "+-----------+------+-------+-----------+------------------------------------------+\n",
      "only showing top 5 rows\n",
      "\n"
     ]
    },
    {
     "data": {
      "text/plain": [
       "\u001b[36mdf_joined\u001b[39m: \u001b[32mDataFrame\u001b[39m = [userid: string, timestamp: timestamp ... 8 more fields]"
      ]
     },
     "execution_count": 11,
     "metadata": {},
     "output_type": "execute_result"
    }
   ],
   "source": [
    "val df_joined = df_listens.join(df_profile, \"userid\")\n",
    "\n",
    "df_joined.select(\"userid\", \"gender\", \"country\", \"artist_name\", \"track_name\")\n",
    "  .show(5, truncate = false)"
   ]
  },
  {
   "cell_type": "markdown",
   "id": "de2308ad-26de-4b10-8c30-9e7773f7a524",
   "metadata": {},
   "source": [
    "- Looking for the TOP 10 Brazilian played songs"
   ]
  },
  {
   "cell_type": "code",
   "execution_count": 12,
   "id": "fa5c4b82-b6e5-4fa6-9e12-38e300d77a57",
   "metadata": {},
   "outputs": [
    {
     "name": "stdout",
     "output_type": "stream",
     "text": [
      "+--------------------------------------------------+-----+\n",
      "|track_name                                        |count|\n",
      "+--------------------------------------------------+-----+\n",
      "|Intro                                             |487  |\n",
      "|Hechicera                                         |387  |\n",
      "|Clavado En Un Bar                                 |350  |\n",
      "|¡Justicia, Tierra Y Libertad! (Revolución De Amor)|321  |\n",
      "|Friends                                           |309  |\n",
      "|Angel De Amor                                     |296  |\n",
      "|Helter Skelter                                    |292  |\n",
      "|Decode                                            |291  |\n",
      "|Floods                                            |285  |\n",
      "|Somos Mar Y Arena                                 |282  |\n",
      "+--------------------------------------------------+-----+\n",
      "only showing top 10 rows\n",
      "\n"
     ]
    }
   ],
   "source": [
    "df_joined.filter($\"country\" === \"Brazil\")\n",
    "  .groupBy(\"track_name\")\n",
    "  .count()\n",
    "  .orderBy(desc(\"count\"))\n",
    "  .show(10, truncate = false)"
   ]
  },
  {
   "cell_type": "markdown",
   "id": "90b2edf6-589e-4502-93d3-d07cebd986d5",
   "metadata": {},
   "source": [
    "- Looking for the age distribuition "
   ]
  },
  {
   "cell_type": "code",
   "execution_count": 13,
   "id": "7b897fc8-e983-4b12-895a-fcc2c101161d",
   "metadata": {},
   "outputs": [
    {
     "name": "stdout",
     "output_type": "stream",
     "text": [
      "+---+-----+\n",
      "|age|count|\n",
      "+---+-----+\n",
      "|  3|    1|\n",
      "|  4|    1|\n",
      "|  7|    1|\n",
      "| 15|    1|\n",
      "| 16|    1|\n",
      "| 17|    4|\n",
      "| 18|   10|\n",
      "| 19|   18|\n",
      "| 20|   19|\n",
      "| 21|   36|\n",
      "| 22|   32|\n",
      "| 23|   20|\n",
      "| 24|   18|\n",
      "| 25|   14|\n",
      "| 26|   15|\n",
      "| 27|   12|\n",
      "| 28|   14|\n",
      "| 29|   14|\n",
      "| 30|    8|\n",
      "| 31|    5|\n",
      "| 32|    6|\n",
      "| 33|    6|\n",
      "| 34|    7|\n",
      "| 35|    5|\n",
      "| 36|    4|\n",
      "| 38|    4|\n",
      "| 39|    2|\n",
      "| 40|    1|\n",
      "| 42|    2|\n",
      "| 48|    1|\n",
      "+---+-----+\n",
      "only showing top 30 rows\n",
      "\n"
     ]
    }
   ],
   "source": [
    "df_profile\n",
    "  .filter($\"age\".isNotNull)\n",
    "  .groupBy(\"age\")\n",
    "  .count()\n",
    "  .orderBy(\"age\")\n",
    "  .show(30)"
   ]
  },
  {
   "cell_type": "markdown",
   "id": "e2c21e51-d319-430f-ac03-ba254151f3e4",
   "metadata": {},
   "source": [
    "- Looking for user countries."
   ]
  },
  {
   "cell_type": "code",
   "execution_count": 14,
   "id": "b2fda49f-45fa-4bbc-9f21-57ddac5eeee8",
   "metadata": {},
   "outputs": [
    {
     "name": "stdout",
     "output_type": "stream",
     "text": [
      "+------------------+-----+\n",
      "|country           |count|\n",
      "+------------------+-----+\n",
      "|United States     |228  |\n",
      "|United Kingdom    |126  |\n",
      "|NULL              |85   |\n",
      "|Poland            |50   |\n",
      "|Germany           |36   |\n",
      "|Norway            |35   |\n",
      "|Finland           |32   |\n",
      "|Canada            |32   |\n",
      "|Turkey            |28   |\n",
      "|Italy             |27   |\n",
      "|Sweden            |24   |\n",
      "|Netherlands       |23   |\n",
      "|Australia         |22   |\n",
      "|Russian Federation|22   |\n",
      "|Brazil            |20   |\n",
      "|Spain             |17   |\n",
      "|France            |14   |\n",
      "|Mexico            |12   |\n",
      "|Belgium           |9    |\n",
      "|Argentina         |9    |\n",
      "+------------------+-----+\n",
      "only showing top 20 rows\n",
      "\n"
     ]
    }
   ],
   "source": [
    "df_profile.groupBy(\"country\")\n",
    "  .count()\n",
    "  .orderBy(desc(\"count\"))\n",
    "  .show(20, truncate = false)"
   ]
  },
  {
   "cell_type": "markdown",
   "id": "a7348aa4-225d-472d-87e3-665e124196e3",
   "metadata": {},
   "source": [
    "- Looking for count of how many listeners for year-month"
   ]
  },
  {
   "cell_type": "code",
   "execution_count": 15,
   "id": "35875c66-c18d-47c6-9e4f-4a992e345a88",
   "metadata": {},
   "outputs": [
    {
     "name": "stdout",
     "output_type": "stream",
     "text": [
      "+----------+------+\n",
      "|year_month| count|\n",
      "+----------+------+\n",
      "|   2005-02| 24269|\n",
      "|   2005-03| 49394|\n",
      "|   2005-04| 73815|\n",
      "|   2005-05| 69510|\n",
      "|   2005-06| 81892|\n",
      "|   2005-07| 87185|\n",
      "|   2005-08|100277|\n",
      "|   2005-09|109551|\n",
      "|   2005-10|135338|\n",
      "|   2005-11|141079|\n",
      "|   2005-12|198346|\n",
      "|   2006-01|237711|\n",
      "|   2006-02|244817|\n",
      "|   2006-03|309983|\n",
      "|   2006-04|321729|\n",
      "|   2006-05|360120|\n",
      "|   2006-06|352437|\n",
      "|   2006-07|374190|\n",
      "|   2006-08|392413|\n",
      "|   2006-09|380929|\n",
      "+----------+------+\n",
      "only showing top 20 rows\n",
      "\n"
     ]
    },
    {
     "data": {
      "text/plain": [
       "\u001b[36mdf_by_month\u001b[39m: \u001b[32morg\u001b[39m.\u001b[32mapache\u001b[39m.\u001b[32mspark\u001b[39m.\u001b[32msql\u001b[39m.\u001b[32mDataset\u001b[39m[\u001b[32morg\u001b[39m.\u001b[32mapache\u001b[39m.\u001b[32mspark\u001b[39m.\u001b[32msql\u001b[39m.\u001b[32mRow\u001b[39m] = [year_month: string, count: bigint]"
      ]
     },
     "execution_count": 15,
     "metadata": {},
     "output_type": "execute_result"
    }
   ],
   "source": [
    "val df_by_month = df_listens\n",
    "  .withColumn(\"year_month\", date_format($\"timestamp\", \"yyyy-MM\"))\n",
    "  .groupBy(\"year_month\")\n",
    "  .count()\n",
    "  .orderBy(\"year_month\")\n",
    "\n",
    "df_by_month.show(20)"
   ]
  },
  {
   "cell_type": "code",
   "execution_count": 16,
   "id": "72e3c547-fa46-43b5-a214-1cf1443ac18c",
   "metadata": {},
   "outputs": [
    {
     "data": {
      "text/plain": [
       "\u001b[36mmonthlyCounts\u001b[39m: \u001b[32mArray\u001b[39m[\u001b[32morg\u001b[39m.\u001b[32mapache\u001b[39m.\u001b[32mspark\u001b[39m.\u001b[32msql\u001b[39m.\u001b[32mRow\u001b[39m] = \u001b[33mArray\u001b[39m(\n",
       "  [2005-02,24269],\n",
       "  [2005-03,49394],\n",
       "  [2005-04,73815],\n",
       "  [2005-05,69510],\n",
       "  [2005-06,81892],\n",
       "  [2005-07,87185],\n",
       "  [2005-08,100277],\n",
       "  [2005-09,109551],\n",
       "  [2005-10,135338],\n",
       "  [2005-11,141079],\n",
       "  [2005-12,198346],\n",
       "  [2006-01,237711],\n",
       "  [2006-02,244817],\n",
       "  [2006-03,309983],\n",
       "  [2006-04,321729],\n",
       "  [2006-05,360120],\n",
       "  [2006-06,352437],\n",
       "  [2006-07,374190],\n",
       "  [2006-08,392413],\n",
       "  [2006-09,380929],\n",
       "  [2006-10,405260],\n",
       "  [2006-11,421417],\n",
       "  [2006-12,452020],\n",
       "  [2007-01,471410],\n",
       "  [2007-02,450666],\n",
       "  [2007-03,447195],\n",
       "  [2007-04,443335],\n",
       "  [2007-05,467688],\n",
       "  [2007-06,410891],\n",
       "  [2007-07,406194],\n",
       "  [2007-08,428135],\n",
       "  [2007-09,433184],\n",
       "  [2007-10,461423],\n",
       "  [2007-11,473953],\n",
       "  [2007-12,464276],\n",
       "  [2008-01,464156],\n",
       "  [2008-02,430047],\n",
       "  [2008-03,482453],\n",
       "..."
      ]
     },
     "execution_count": 16,
     "metadata": {},
     "output_type": "execute_result"
    }
   ],
   "source": [
    "val monthlyCounts = df_by_month.collect()"
   ]
  },
  {
   "cell_type": "markdown",
   "id": "2c76f00e-f095-4f92-9179-cb4d3f7984f3",
   "metadata": {},
   "source": [
    "- Looking for the count of each track"
   ]
  },
  {
   "cell_type": "code",
   "execution_count": 17,
   "id": "f14f3dfd-d94f-4853-8cce-b4dce8166620",
   "metadata": {},
   "outputs": [
    {
     "name": "stdout",
     "output_type": "stream",
     "text": [
      "+------------------+-----+\n",
      "|track_name        |count|\n",
      "+------------------+-----+\n",
      "|Intro             |17601|\n",
      "|[Untitled]        |6942 |\n",
      "|Untitled          |6641 |\n",
      "|Home              |6327 |\n",
      "|All I Need        |6236 |\n",
      "|Angel             |6020 |\n",
      "|Heartbeats        |5678 |\n",
      "|Wake Up           |5664 |\n",
      "|Crazy             |5645 |\n",
      "|Such Great Heights|5577 |\n",
      "+------------------+-----+\n",
      "only showing top 10 rows\n",
      "\n"
     ]
    }
   ],
   "source": [
    "df_listens.groupBy(\"track_name\")\n",
    "  .count()\n",
    "  .orderBy(desc(\"count\"))\n",
    "  .show(10, truncate = false)"
   ]
  },
  {
   "cell_type": "markdown",
   "id": "45777f77-6644-436c-a140-19b8a0647103",
   "metadata": {},
   "source": [
    "- Looking for TOP artists in Brazil"
   ]
  },
  {
   "cell_type": "code",
   "execution_count": 18,
   "id": "343d63b5-8595-45d9-ab01-af2d75fadb74",
   "metadata": {},
   "outputs": [
    {
     "name": "stdout",
     "output_type": "stream",
     "text": [
      "+---------------------+-----+\n",
      "|artist_name          |count|\n",
      "+---------------------+-----+\n",
      "|The Beatles          |12372|\n",
      "|Mägo De Oz           |7202 |\n",
      "|Maná                 |5758 |\n",
      "|Engenheiros Do Hawaii|5745 |\n",
      "|Mando Diao           |5400 |\n",
      "|Metallica            |5104 |\n",
      "|Backyard Babies      |5091 |\n",
      "|Johnny Cash          |4788 |\n",
      "|Pink Floyd           |4646 |\n",
      "|Frank Sinatra        |4350 |\n",
      "+---------------------+-----+\n",
      "only showing top 10 rows\n",
      "\n"
     ]
    }
   ],
   "source": [
    "df_joined.filter($\"country\" === \"Brazil\")\n",
    "  .groupBy(\"artist_name\")\n",
    "  .count()\n",
    "  .orderBy(desc(\"count\"))\n",
    "  .show(10, truncate = false)"
   ]
  },
  {
   "cell_type": "code",
   "execution_count": null,
   "id": "e4466046-e6bc-40e2-9ef6-024a405ace91",
   "metadata": {},
   "outputs": [],
   "source": []
  },
  {
   "cell_type": "code",
   "execution_count": 18,
   "id": "23219dc5-607a-42e6-a658-4264c217e7f7",
   "metadata": {},
   "outputs": [
    {
     "name": "stderr",
     "output_type": "stream",
     "text": [
      "cmd19.sc:6: not found: value Window\n",
      "    Window.partitionBy(\"gender\").orderBy(desc(\"count\"))\n",
      "    ^\n",
      "cmd19.sc:11: not found: value truncate\n",
      "  .show(truncate = false)\n",
      "        ^\n",
      "Compilation Failed"
     ]
    }
   ],
   "source": [
    "val gendered = df_joined.filter($\"gender\".isin(\"m\", \"f\"))\n",
    "\n",
    "gendered.groupBy(\"gender\", \"artist_name\")\n",
    "  .count()\n",
    "  .withColumn(\"rank\", row_number().over(\n",
    "    Window.partitionBy(\"gender\").orderBy(desc(\"count\"))\n",
    "  ))\n",
    "  .filter($\"rank\" <= 5)\n",
    "  .orderBy(\"gender\", \"rank\")\n",
    "  .select(\"gender\", \"artist_name\", \"count\")\n",
    "  .show(truncate = false)"
   ]
  },
  {
   "cell_type": "code",
   "execution_count": 19,
   "id": "3dfa6f0a-4e32-46e5-aed8-fccaf76f48ab",
   "metadata": {},
   "outputs": [
    {
     "name": "stdout",
     "output_type": "stream",
     "text": [
      "+---+----------------------------+-----+\n",
      "|age|artist_name                 |count|\n",
      "+---+----------------------------+-----+\n",
      "|3  |Oasis                       |387  |\n",
      "|3  |Kasabian                    |358  |\n",
      "|3  |Stereophonics               |227  |\n",
      "|3  |The Strokes                 |209  |\n",
      "|3  |The Killers                 |159  |\n",
      "|3  |The Ends                    |130  |\n",
      "|3  |Kaiser Chiefs               |80   |\n",
      "|3  |The Beatles                 |71   |\n",
      "|3  |Noel Gallagher              |69   |\n",
      "|3  |Blur                        |62   |\n",
      "|3  |Black Rebel Motorcycle Club |51   |\n",
      "|3  |The Redwalls                |41   |\n",
      "|3  |Giant Drag                  |41   |\n",
      "|3  |Rilo Kiley                  |31   |\n",
      "|3  |Arctic Monkeys              |29   |\n",
      "|3  |The Rolling Stones          |23   |\n",
      "|3  |Pulp                        |21   |\n",
      "|3  |Black Market                |20   |\n",
      "|3  |Spiritualized               |16   |\n",
      "|3  |The Stone Roses             |16   |\n",
      "|3  |Coldplay                    |14   |\n",
      "|3  |John Lennon                 |12   |\n",
      "|3  |The Verve                   |11   |\n",
      "|3  |Coast To Coast Am - Art Bell|11   |\n",
      "|3  |Kings Of Leon               |11   |\n",
      "|3  |The Mamas & The Papas       |11   |\n",
      "|3  |Death In Vegas              |10   |\n",
      "|3  |Georges Delerue             |10   |\n",
      "|3  |Belle And Sebastian         |10   |\n",
      "|3  |Cornershop                  |10   |\n",
      "+---+----------------------------+-----+\n",
      "only showing top 30 rows\n",
      "\n"
     ]
    }
   ],
   "source": [
    "df_joined.filter($\"age\".isNotNull)\n",
    "  .groupBy($\"age\", $\"artist_name\")\n",
    "  .count()\n",
    "  .orderBy($\"age\", desc(\"count\"))\n",
    "  .show(30, truncate = false)"
   ]
  },
  {
   "cell_type": "code",
   "execution_count": 20,
   "id": "5cb54d81-df6a-4917-9a71-ca9f9d893386",
   "metadata": {},
   "outputs": [
    {
     "name": "stdout",
     "output_type": "stream",
     "text": [
      "+-----------+------+\n",
      "|     userid| count|\n",
      "+-----------+------+\n",
      "|user_000949|183103|\n",
      "+-----------+------+\n",
      "only showing top 1 row\n",
      "\n"
     ]
    }
   ],
   "source": [
    "df_listens.groupBy(\"userid\")\n",
    "  .count()\n",
    "  .orderBy(desc(\"count\"))\n",
    "  .show(1)"
   ]
  },
  {
   "cell_type": "code",
   "execution_count": 21,
   "id": "de904ca6-c5d7-44a8-9ea5-06caf406ef08",
   "metadata": {},
   "outputs": [
    {
     "name": "stdout",
     "output_type": "stream",
     "text": [
      "+-----------+-------------+\n",
      "|userid     |unique_tracks|\n",
      "+-----------+-------------+\n",
      "|user_000691|59850        |\n",
      "|user_000861|43860        |\n",
      "|user_000681|36746        |\n",
      "|user_000800|31872        |\n",
      "|user_000774|29997        |\n",
      "|user_000427|28592        |\n",
      "|user_000882|24426        |\n",
      "|user_000702|24225        |\n",
      "|user_000345|24110        |\n",
      "|user_000910|21812        |\n",
      "+-----------+-------------+\n",
      "only showing top 10 rows\n",
      "\n"
     ]
    }
   ],
   "source": [
    "df_listens.groupBy(\"userid\")\n",
    "  .agg(countDistinct(\"track_id\").as(\"unique_tracks\"))\n",
    "  .orderBy(desc(\"unique_tracks\"))\n",
    "  .show(10, truncate = false)"
   ]
  },
  {
   "cell_type": "code",
   "execution_count": 22,
   "id": "727009b3-2800-483f-8630-8f49fe6837b7",
   "metadata": {},
   "outputs": [
    {
     "name": "stdout",
     "output_type": "stream",
     "text": [
      "+------------------+-----+\n",
      "|track_name        |count|\n",
      "+------------------+-----+\n",
      "|Intro             |4650 |\n",
      "|[Untitled]        |2321 |\n",
      "|Untitled          |2138 |\n",
      "|All I Need        |1768 |\n",
      "|Home              |1708 |\n",
      "|Crazy             |1648 |\n",
      "|Heartbeats        |1611 |\n",
      "|Such Great Heights|1606 |\n",
      "|Hallelujah        |1601 |\n",
      "|Angel             |1594 |\n",
      "+------------------+-----+\n",
      "only showing top 10 rows\n",
      "\n"
     ]
    },
    {
     "data": {
      "text/plain": [
       "\u001b[36mdf_with_hour\u001b[39m: \u001b[32mDataFrame\u001b[39m = [userid: string, timestamp: timestamp ... 5 more fields]"
      ]
     },
     "execution_count": 22,
     "metadata": {},
     "output_type": "execute_result"
    }
   ],
   "source": [
    "val df_with_hour = df_listens.withColumn(\"hour\", hour($\"timestamp\"))\n",
    "\n",
    "df_with_hour.filter($\"hour\" >= 0 && $\"hour\" < 6)\n",
    "  .groupBy(\"track_name\")\n",
    "  .count()\n",
    "  .orderBy(desc(\"count\"))\n",
    "  .show(10, truncate = false)"
   ]
  },
  {
   "cell_type": "code",
   "execution_count": 23,
   "id": "74ab7068-a287-49a2-a072-932666ba129f",
   "metadata": {},
   "outputs": [
    {
     "name": "stdout",
     "output_type": "stream",
     "text": [
      "+-----------+------+----+-------------+------------+\n",
      "|     userid|gender| age|      country|      signup|\n",
      "+-----------+------+----+-------------+------------+\n",
      "|user_000949|     f|NULL|United States|May 30, 2005|\n",
      "+-----------+------+----+-------------+------------+\n",
      "\n",
      "+--------------+-----+\n",
      "|artist_name   |count|\n",
      "+--------------+-----+\n",
      "|Everclear     |6910 |\n",
      "|Rocky Votolato|5540 |\n",
      "|Metric        |4545 |\n",
      "|Elliott Smith |4520 |\n",
      "|Girl Talk     |4392 |\n",
      "|Four Tet      |4275 |\n",
      "|Pedro The Lion|4221 |\n",
      "|The Killers   |4221 |\n",
      "|Daft Punk     |4159 |\n",
      "|Cake          |4032 |\n",
      "+--------------+-----+\n",
      "only showing top 10 rows\n",
      "\n"
     ]
    },
    {
     "data": {
      "text/plain": [
       "\u001b[36mtopUser\u001b[39m: \u001b[32mString\u001b[39m = \u001b[32m\"user_000949\"\u001b[39m\n",
       "\u001b[36mtopUserProfile\u001b[39m: \u001b[32morg\u001b[39m.\u001b[32mapache\u001b[39m.\u001b[32mspark\u001b[39m.\u001b[32msql\u001b[39m.\u001b[32mDataset\u001b[39m[\u001b[32morg\u001b[39m.\u001b[32mapache\u001b[39m.\u001b[32mspark\u001b[39m.\u001b[32msql\u001b[39m.\u001b[32mRow\u001b[39m] = [userid: string, gender: string ... 3 more fields]"
      ]
     },
     "execution_count": 23,
     "metadata": {},
     "output_type": "execute_result"
    }
   ],
   "source": [
    "val topUser = df_listens.groupBy(\"userid\")\n",
    "  .count()\n",
    "  .orderBy(desc(\"count\"))\n",
    "  .limit(1)\n",
    "  .collect()\n",
    "  .head\n",
    "  .getString(0)\n",
    "\n",
    "val topUserProfile = df_profile.filter($\"userid\" === topUser)\n",
    "topUserProfile.show()\n",
    "\n",
    "df_listens.filter($\"userid\" === topUser)\n",
    "  .groupBy(\"artist_name\")\n",
    "  .count()\n",
    "  .orderBy(desc(\"count\"))\n",
    "  .show(10, truncate = false)"
   ]
  },
  {
   "cell_type": "markdown",
   "id": "67767064-5de9-4e81-8f6a-d548d657bfa4",
   "metadata": {},
   "source": [
    "### Creating some Plots to better see the Data"
   ]
  },
  {
   "cell_type": "code",
   "execution_count": null,
   "id": "4fd3ad86-f58e-470d-9c02-9cbd51b4741c",
   "metadata": {},
   "outputs": [],
   "source": [
    "import plotly._, plotly.element._, plotly.layout._, plotly.Almond._\n",
    "import org.apache.spark.sql.functions._\n",
    "\n",
    "val genderCountsDF = df_profile\n",
    "  .withColumn(\"gender_norm\",\n",
    "    when(trim(col(\"gender\")).isNull || trim(col(\"gender\")) === \"\", lit(\"Unknown\"))\n",
    "      .otherwise(col(\"gender\"))\n",
    "  )\n",
    "  .groupBy(\"gender_norm\").count()\n",
    "  .orderBy(desc(\"count\"))\n",
    "\n",
    "val rows   = genderCountsDF.collect().toSeq\n",
    "val labels = rows.map(_.getAs[String](\"gender_norm\"))  // guaranteed non-null\n",
    "val values = rows.map(_.getAs[Long](\"count\"))\n",
    "\n",
    "val fig = Bar(labels, values)\n",
    "plot(Seq(fig), Layout().withTitle(\"Gender Distribution in LastFM Dataset\"))"
   ]
  },
  {
   "cell_type": "code",
   "execution_count": null,
   "id": "5a110346-7782-43c1-aa9c-0917dd4efb4e",
   "metadata": {},
   "outputs": [],
   "source": []
  }
 ],
 "metadata": {
  "kernelspec": {
   "display_name": "Scala 2.13",
   "language": "scala",
   "name": "scala"
  },
  "language_info": {
   "codemirror_mode": "text/x-scala",
   "file_extension": ".sc",
   "mimetype": "text/x-scala",
   "name": "scala",
   "nbconvert_exporter": "script",
   "version": "2.13.12"
  }
 },
 "nbformat": 4,
 "nbformat_minor": 5
}
